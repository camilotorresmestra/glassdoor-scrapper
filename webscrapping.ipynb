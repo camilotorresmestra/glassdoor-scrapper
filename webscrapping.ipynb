{
 "cells": [
  {
   "cell_type": "code",
   "execution_count": 1,
   "metadata": {},
   "outputs": [
    {
     "name": "stderr",
     "output_type": "stream",
     "text": [
      "C:\\Users\\Camilo\\AppData\\Local\\Temp\\ipykernel_14164\\3182383128.py:4: DeprecationWarning: executable_path has been deprecated, please pass in a Service object\n",
      "  driver = webdriver.Chrome(executable_path=DRIVER_PATH)\n"
     ]
    },
    {
     "ename": "SessionNotCreatedException",
     "evalue": "Message: session not created: No matching capabilities found\nStacktrace:\nBacktrace:\n\tMicrosoft::Applications::Events::ILogConfiguration::ILogConfiguration [0x00007FF6E55BC1F2+56946]\n\tMicrosoft::Applications::Events::EventProperty::to_string [0x00007FF6E51E9CD7+947623]\n\tMicrosoft::Applications::Events::EventProperty::to_string [0x00007FF6E524546E+1322302]\n\tMicrosoft::Applications::Events::EventProperty::to_string [0x00007FF6E5240AFF+1303503]\n\tMicrosoft::Applications::Events::EventProperty::to_string [0x00007FF6E52161E9+1129145]\n\tMicrosoft::Applications::Events::EventProperty::to_string [0x00007FF6E52172CF+1133471]\n\tMicrosoft::Applications::Events::EventProperty::to_string [0x00007FF6E52AB9B5+1741445]\n\tMicrosoft::Applications::Events::EventProperty::to_string [0x00007FF6E52A9E41+1734417]\n\tMicrosoft::Applications::Events::EventProperty::EventProperty [0x00007FF6E548ABB9+2521]\n\tMicrosoft::Applications::Events::EventProperty::to_string [0x00007FF6E52817EE+1568958]\n\tMicrosoft::Applications::Events::ILogConfiguration::ILogConfiguration [0x00007FF6E55B4DFC+27260]\n\tMicrosoft::Applications::Events::ILogConfiguration::ILogConfiguration [0x00007FF6E55B4774+25588]\n\tMicrosoft::Applications::Events::ILogConfiguration::ILogConfiguration [0x00007FF6E55B45C6+25158]\n\tMicrosoft::Applications::Events::EventProperties::GetName [0x00007FF6E550F97C+211724]\n\tBaseThreadInitThunk [0x00007FF82C93244D+29]\n\tRtlUserThreadStart [0x00007FF82E2ADF88+40]\n",
     "output_type": "error",
     "traceback": [
      "\u001b[1;31m---------------------------------------------------------------------------\u001b[0m",
      "\u001b[1;31mSessionNotCreatedException\u001b[0m                Traceback (most recent call last)",
      "\u001b[1;32mc:\\Users\\Camilo\\Documents\\GitHub\\glassdoor-scrapper\\webscrapping.ipynb Cell 1'\u001b[0m in \u001b[0;36m<cell line: 4>\u001b[1;34m()\u001b[0m\n\u001b[0;32m      <a href='vscode-notebook-cell:/c%3A/Users/Camilo/Documents/GitHub/glassdoor-scrapper/webscrapping.ipynb#ch0000001?line=0'>1</a>\u001b[0m \u001b[39mfrom\u001b[39;00m \u001b[39mselenium\u001b[39;00m \u001b[39mimport\u001b[39;00m webdriver\n\u001b[0;32m      <a href='vscode-notebook-cell:/c%3A/Users/Camilo/Documents/GitHub/glassdoor-scrapper/webscrapping.ipynb#ch0000001?line=2'>3</a>\u001b[0m DRIVER_PATH \u001b[39m=\u001b[39m \u001b[39m'\u001b[39m\u001b[39mmsedgedriver.exe\u001b[39m\u001b[39m'\u001b[39m\n\u001b[1;32m----> <a href='vscode-notebook-cell:/c%3A/Users/Camilo/Documents/GitHub/glassdoor-scrapper/webscrapping.ipynb#ch0000001?line=3'>4</a>\u001b[0m driver \u001b[39m=\u001b[39m webdriver\u001b[39m.\u001b[39;49mChrome(executable_path\u001b[39m=\u001b[39;49mDRIVER_PATH)\n\u001b[0;32m      <a href='vscode-notebook-cell:/c%3A/Users/Camilo/Documents/GitHub/glassdoor-scrapper/webscrapping.ipynb#ch0000001?line=4'>5</a>\u001b[0m driver\u001b[39m.\u001b[39mget(\u001b[39m'\u001b[39m\u001b[39mhttps://google.com\u001b[39m\u001b[39m'\u001b[39m)\n",
      "File \u001b[1;32mc:\\Users\\Camilo\\Documents\\GitHub\\glassdoor-scrapper\\.venv\\lib\\site-packages\\selenium\\webdriver\\chrome\\webdriver.py:70\u001b[0m, in \u001b[0;36mWebDriver.__init__\u001b[1;34m(self, executable_path, port, options, service_args, desired_capabilities, service_log_path, chrome_options, service, keep_alive)\u001b[0m\n\u001b[0;32m     67\u001b[0m \u001b[39mif\u001b[39;00m \u001b[39mnot\u001b[39;00m service:\n\u001b[0;32m     68\u001b[0m     service \u001b[39m=\u001b[39m Service(executable_path, port, service_args, service_log_path)\n\u001b[1;32m---> 70\u001b[0m \u001b[39msuper\u001b[39;49m(WebDriver, \u001b[39mself\u001b[39;49m)\u001b[39m.\u001b[39;49m\u001b[39m__init__\u001b[39;49m(DesiredCapabilities\u001b[39m.\u001b[39;49mCHROME[\u001b[39m'\u001b[39;49m\u001b[39mbrowserName\u001b[39;49m\u001b[39m'\u001b[39;49m], \u001b[39m\"\u001b[39;49m\u001b[39mgoog\u001b[39;49m\u001b[39m\"\u001b[39;49m,\n\u001b[0;32m     71\u001b[0m                                 port, options,\n\u001b[0;32m     72\u001b[0m                                 service_args, desired_capabilities,\n\u001b[0;32m     73\u001b[0m                                 service_log_path, service, keep_alive)\n",
      "File \u001b[1;32mc:\\Users\\Camilo\\Documents\\GitHub\\glassdoor-scrapper\\.venv\\lib\\site-packages\\selenium\\webdriver\\chromium\\webdriver.py:92\u001b[0m, in \u001b[0;36mChromiumDriver.__init__\u001b[1;34m(self, browser_name, vendor_prefix, port, options, service_args, desired_capabilities, service_log_path, service, keep_alive)\u001b[0m\n\u001b[0;32m     89\u001b[0m \u001b[39mself\u001b[39m\u001b[39m.\u001b[39mservice\u001b[39m.\u001b[39mstart()\n\u001b[0;32m     91\u001b[0m \u001b[39mtry\u001b[39;00m:\n\u001b[1;32m---> 92\u001b[0m     RemoteWebDriver\u001b[39m.\u001b[39;49m\u001b[39m__init__\u001b[39;49m(\n\u001b[0;32m     93\u001b[0m         \u001b[39mself\u001b[39;49m,\n\u001b[0;32m     94\u001b[0m         command_executor\u001b[39m=\u001b[39;49mChromiumRemoteConnection(\n\u001b[0;32m     95\u001b[0m             remote_server_addr\u001b[39m=\u001b[39;49m\u001b[39mself\u001b[39;49m\u001b[39m.\u001b[39;49mservice\u001b[39m.\u001b[39;49mservice_url,\n\u001b[0;32m     96\u001b[0m             browser_name\u001b[39m=\u001b[39;49mbrowser_name, vendor_prefix\u001b[39m=\u001b[39;49mvendor_prefix,\n\u001b[0;32m     97\u001b[0m             keep_alive\u001b[39m=\u001b[39;49mkeep_alive, ignore_proxy\u001b[39m=\u001b[39;49m_ignore_proxy),\n\u001b[0;32m     98\u001b[0m         options\u001b[39m=\u001b[39;49moptions)\n\u001b[0;32m     99\u001b[0m \u001b[39mexcept\u001b[39;00m \u001b[39mException\u001b[39;00m:\n\u001b[0;32m    100\u001b[0m     \u001b[39mself\u001b[39m\u001b[39m.\u001b[39mquit()\n",
      "File \u001b[1;32mc:\\Users\\Camilo\\Documents\\GitHub\\glassdoor-scrapper\\.venv\\lib\\site-packages\\selenium\\webdriver\\remote\\webdriver.py:275\u001b[0m, in \u001b[0;36mWebDriver.__init__\u001b[1;34m(self, command_executor, desired_capabilities, browser_profile, proxy, keep_alive, file_detector, options)\u001b[0m\n\u001b[0;32m    273\u001b[0m \u001b[39mself\u001b[39m\u001b[39m.\u001b[39m_authenticator_id \u001b[39m=\u001b[39m \u001b[39mNone\u001b[39;00m\n\u001b[0;32m    274\u001b[0m \u001b[39mself\u001b[39m\u001b[39m.\u001b[39mstart_client()\n\u001b[1;32m--> 275\u001b[0m \u001b[39mself\u001b[39;49m\u001b[39m.\u001b[39;49mstart_session(capabilities, browser_profile)\n",
      "File \u001b[1;32mc:\\Users\\Camilo\\Documents\\GitHub\\glassdoor-scrapper\\.venv\\lib\\site-packages\\selenium\\webdriver\\remote\\webdriver.py:365\u001b[0m, in \u001b[0;36mWebDriver.start_session\u001b[1;34m(self, capabilities, browser_profile)\u001b[0m\n\u001b[0;32m    363\u001b[0m w3c_caps \u001b[39m=\u001b[39m _make_w3c_caps(capabilities)\n\u001b[0;32m    364\u001b[0m parameters \u001b[39m=\u001b[39m {\u001b[39m\"\u001b[39m\u001b[39mcapabilities\u001b[39m\u001b[39m\"\u001b[39m: w3c_caps}\n\u001b[1;32m--> 365\u001b[0m response \u001b[39m=\u001b[39m \u001b[39mself\u001b[39;49m\u001b[39m.\u001b[39;49mexecute(Command\u001b[39m.\u001b[39;49mNEW_SESSION, parameters)\n\u001b[0;32m    366\u001b[0m \u001b[39mif\u001b[39;00m \u001b[39m'\u001b[39m\u001b[39msessionId\u001b[39m\u001b[39m'\u001b[39m \u001b[39mnot\u001b[39;00m \u001b[39min\u001b[39;00m response:\n\u001b[0;32m    367\u001b[0m     response \u001b[39m=\u001b[39m response[\u001b[39m'\u001b[39m\u001b[39mvalue\u001b[39m\u001b[39m'\u001b[39m]\n",
      "File \u001b[1;32mc:\\Users\\Camilo\\Documents\\GitHub\\glassdoor-scrapper\\.venv\\lib\\site-packages\\selenium\\webdriver\\remote\\webdriver.py:430\u001b[0m, in \u001b[0;36mWebDriver.execute\u001b[1;34m(self, driver_command, params)\u001b[0m\n\u001b[0;32m    428\u001b[0m response \u001b[39m=\u001b[39m \u001b[39mself\u001b[39m\u001b[39m.\u001b[39mcommand_executor\u001b[39m.\u001b[39mexecute(driver_command, params)\n\u001b[0;32m    429\u001b[0m \u001b[39mif\u001b[39;00m response:\n\u001b[1;32m--> 430\u001b[0m     \u001b[39mself\u001b[39;49m\u001b[39m.\u001b[39;49merror_handler\u001b[39m.\u001b[39;49mcheck_response(response)\n\u001b[0;32m    431\u001b[0m     response[\u001b[39m'\u001b[39m\u001b[39mvalue\u001b[39m\u001b[39m'\u001b[39m] \u001b[39m=\u001b[39m \u001b[39mself\u001b[39m\u001b[39m.\u001b[39m_unwrap_value(\n\u001b[0;32m    432\u001b[0m         response\u001b[39m.\u001b[39mget(\u001b[39m'\u001b[39m\u001b[39mvalue\u001b[39m\u001b[39m'\u001b[39m, \u001b[39mNone\u001b[39;00m))\n\u001b[0;32m    433\u001b[0m     \u001b[39mreturn\u001b[39;00m response\n",
      "File \u001b[1;32mc:\\Users\\Camilo\\Documents\\GitHub\\glassdoor-scrapper\\.venv\\lib\\site-packages\\selenium\\webdriver\\remote\\errorhandler.py:247\u001b[0m, in \u001b[0;36mErrorHandler.check_response\u001b[1;34m(self, response)\u001b[0m\n\u001b[0;32m    245\u001b[0m         alert_text \u001b[39m=\u001b[39m value[\u001b[39m'\u001b[39m\u001b[39malert\u001b[39m\u001b[39m'\u001b[39m]\u001b[39m.\u001b[39mget(\u001b[39m'\u001b[39m\u001b[39mtext\u001b[39m\u001b[39m'\u001b[39m)\n\u001b[0;32m    246\u001b[0m     \u001b[39mraise\u001b[39;00m exception_class(message, screen, stacktrace, alert_text)  \u001b[39m# type: ignore[call-arg]  # mypy is not smart enough here\u001b[39;00m\n\u001b[1;32m--> 247\u001b[0m \u001b[39mraise\u001b[39;00m exception_class(message, screen, stacktrace)\n",
      "\u001b[1;31mSessionNotCreatedException\u001b[0m: Message: session not created: No matching capabilities found\nStacktrace:\nBacktrace:\n\tMicrosoft::Applications::Events::ILogConfiguration::ILogConfiguration [0x00007FF6E55BC1F2+56946]\n\tMicrosoft::Applications::Events::EventProperty::to_string [0x00007FF6E51E9CD7+947623]\n\tMicrosoft::Applications::Events::EventProperty::to_string [0x00007FF6E524546E+1322302]\n\tMicrosoft::Applications::Events::EventProperty::to_string [0x00007FF6E5240AFF+1303503]\n\tMicrosoft::Applications::Events::EventProperty::to_string [0x00007FF6E52161E9+1129145]\n\tMicrosoft::Applications::Events::EventProperty::to_string [0x00007FF6E52172CF+1133471]\n\tMicrosoft::Applications::Events::EventProperty::to_string [0x00007FF6E52AB9B5+1741445]\n\tMicrosoft::Applications::Events::EventProperty::to_string [0x00007FF6E52A9E41+1734417]\n\tMicrosoft::Applications::Events::EventProperty::EventProperty [0x00007FF6E548ABB9+2521]\n\tMicrosoft::Applications::Events::EventProperty::to_string [0x00007FF6E52817EE+1568958]\n\tMicrosoft::Applications::Events::ILogConfiguration::ILogConfiguration [0x00007FF6E55B4DFC+27260]\n\tMicrosoft::Applications::Events::ILogConfiguration::ILogConfiguration [0x00007FF6E55B4774+25588]\n\tMicrosoft::Applications::Events::ILogConfiguration::ILogConfiguration [0x00007FF6E55B45C6+25158]\n\tMicrosoft::Applications::Events::EventProperties::GetName [0x00007FF6E550F97C+211724]\n\tBaseThreadInitThunk [0x00007FF82C93244D+29]\n\tRtlUserThreadStart [0x00007FF82E2ADF88+40]\n"
     ]
    }
   ],
   "source": [
    "from selenium import webdriver\n",
    "\n",
    "DRIVER_PATH = 'msedgedriver.exe'\n",
    "driver = webdriver.Edge(executable_path=DRIVER_PATH)\n",
    "driver.get('https://google.com')"
   ]
  }
 ],
 "metadata": {
  "kernelspec": {
   "display_name": "Python 3.10.4 ('.venv': venv)",
   "language": "python",
   "name": "python3"
  },
  "language_info": {
   "codemirror_mode": {
    "name": "ipython",
    "version": 3
   },
   "file_extension": ".py",
   "mimetype": "text/x-python",
   "name": "python",
   "nbconvert_exporter": "python",
   "pygments_lexer": "ipython3",
   "version": "3.10.4"
  },
  "vscode": {
   "interpreter": {
    "hash": "eed67fb4728f4a0d5fa1954867c5a936d93caffb3fbf7db2892b46474e84e69d"
   }
  }
 },
 "nbformat": 4,
 "nbformat_minor": 5
}
